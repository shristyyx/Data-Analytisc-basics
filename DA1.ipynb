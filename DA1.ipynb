{
  "nbformat": 4,
  "nbformat_minor": 0,
  "metadata": {
    "colab": {
      "provenance": []
    },
    "kernelspec": {
      "name": "python3",
      "display_name": "Python 3"
    },
    "language_info": {
      "name": "python"
    }
  },
  "cells": [
    {
      "cell_type": "markdown",
      "source": [
        "Experiment 1 : Basic Concepts of Data Analytics and Python"
      ],
      "metadata": {
        "id": "dVIUQRo6FGSV"
      }
    },
    {
      "cell_type": "code",
      "source": [
        "print(\"Hello World\")"
      ],
      "metadata": {
        "colab": {
          "base_uri": "https://localhost:8080/"
        },
        "id": "zEt1oUWZFKp2",
        "outputId": "5c777254-4a38-40b6-8ece-bfb421b1b37e"
      },
      "execution_count": 1,
      "outputs": [
        {
          "output_type": "stream",
          "name": "stdout",
          "text": [
            "Hello World\n"
          ]
        }
      ]
    },
    {
      "cell_type": "code",
      "source": [
        "#printing 5 countries names\n",
        "print(\"India\")\n",
        "print(\"The United State of America\")\n",
        "print(\"The United Kingdom\")\n",
        "print(\"Japan\")\n",
        "print(\"Italy\")"
      ],
      "metadata": {
        "colab": {
          "base_uri": "https://localhost:8080/"
        },
        "id": "IQ3p4a94FNVC",
        "outputId": "b5fe44f2-2f4b-433d-af98-71e440a775b3"
      },
      "execution_count": 2,
      "outputs": [
        {
          "output_type": "stream",
          "name": "stdout",
          "text": [
            "India\n",
            "The United State of America\n",
            "The United Kingdom\n",
            "Japan\n",
            "Italy\n"
          ]
        }
      ]
    },
    {
      "cell_type": "code",
      "source": [],
      "metadata": {
        "id": "qh-lXAdAFezy"
      },
      "execution_count": null,
      "outputs": []
    }
  ]
}